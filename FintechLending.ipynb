{
 "cells": [
  {
   "cell_type": "markdown",
   "metadata": {},
   "source": [
    "### Nama: Rofif Fairuz Hawary"
   ]
  },
  {
   "cell_type": "markdown",
   "metadata": {},
   "source": [
    "### NIM : 18220090"
   ]
  },
  {
   "cell_type": "markdown",
   "metadata": {},
   "source": [
    "# Library Collection"
   ]
  },
  {
   "cell_type": "code",
   "execution_count": 1,
   "metadata": {},
   "outputs": [],
   "source": [
    "import pandas as pd\n",
    "import numpy as np\n",
    "import matplotlib.pyplot as plt\n",
    "import seaborn as sns\n",
    "from scipy.stats import norm\n",
    "sns.set_style('darkgrid')"
   ]
  },
  {
   "cell_type": "markdown",
   "metadata": {},
   "source": [
    "# Data Collection"
   ]
  },
  {
   "cell_type": "code",
   "execution_count": 2,
   "metadata": {},
   "outputs": [],
   "source": [
    "df_bank = pd.read_csv(\"banking.csv\")\n",
    "df_fint = pd.read_csv(\"fintech.csv\")"
   ]
  },
  {
   "cell_type": "markdown",
   "metadata": {},
   "source": [
    "#### Check up dataframe"
   ]
  },
  {
   "cell_type": "code",
   "execution_count": 3,
   "metadata": {},
   "outputs": [
    {
     "name": "stdout",
     "output_type": "stream",
     "text": [
      "<class 'pandas.core.frame.DataFrame'>\n",
      "RangeIndex: 2095 entries, 0 to 2094\n",
      "Data columns (total 21 columns):\n",
      " #   Column                 Non-Null Count  Dtype \n",
      "---  ------                 --------------  ----- \n",
      " 0   responden              2095 non-null   int64 \n",
      " 1   jenis_kelamin          2095 non-null   object\n",
      " 2   usia                   2095 non-null   object\n",
      " 3   pendidikan             2095 non-null   object\n",
      " 4   penghasilan            2095 non-null   object\n",
      " 5   aktivitas_meningkat_1  999 non-null    object\n",
      " 6   aktivitas_meningkat_2  1445 non-null   object\n",
      " 7   aktivitas_meningkat_3  1426 non-null   object\n",
      " 8   aktivitas_meningkat_4  1510 non-null   object\n",
      " 9   aktivitas_meningkat_5  100 non-null    object\n",
      " 10  memiliki_akun_bank?    2095 non-null   object\n",
      " 11  bank_pilihan_1         535 non-null    object\n",
      " 12  bank_pilihan_2         931 non-null    object\n",
      " 13  bank_pilihan_3         588 non-null    object\n",
      " 14  bank_pilihan_4         623 non-null    object\n",
      " 15  bank_pilihan_5         113 non-null    object\n",
      " 16  transfer_antar_bank    2095 non-null   object\n",
      " 17  bayar_tagihan          2095 non-null   object\n",
      " 18  keluhan_1              1584 non-null   object\n",
      " 19  keluhan_2              282 non-null    object\n",
      " 20  keluhan_3              137 non-null    object\n",
      "dtypes: int64(1), object(20)\n",
      "memory usage: 343.8+ KB\n"
     ]
    }
   ],
   "source": [
    "df_bank.info()"
   ]
  },
  {
   "cell_type": "code",
   "execution_count": 4,
   "metadata": {
    "scrolled": true
   },
   "outputs": [
    {
     "name": "stdout",
     "output_type": "stream",
     "text": [
      "<class 'pandas.core.frame.DataFrame'>\n",
      "RangeIndex: 2095 entries, 0 to 2094\n",
      "Data columns (total 25 columns):\n",
      " #   Column                        Non-Null Count  Dtype \n",
      "---  ------                        --------------  ----- \n",
      " 0   responden                     2095 non-null   int64 \n",
      " 1   jenis_kelamin                 2095 non-null   object\n",
      " 2   usia                          2095 non-null   object\n",
      " 3   pendidikan                    2095 non-null   object\n",
      " 4   penghasilan                   2095 non-null   object\n",
      " 5   aktivitas_meningkat_1         999 non-null    object\n",
      " 6   aktivitas_meningkat_2         1445 non-null   object\n",
      " 7   aktivitas_meningkat_3         1426 non-null   object\n",
      " 8   aktivitas_meningkat_4         1510 non-null   object\n",
      " 9   aktivitas_meningkat_5         100 non-null    object\n",
      " 10  menggunakan_fintech_lending?  2095 non-null   object\n",
      " 11  fintech_pilihan_1             44 non-null     object\n",
      " 12  fintech_pilihan_2             12 non-null     object\n",
      " 13  fintech_pilihan_3             22 non-null     object\n",
      " 14  fintech_pilihan_4             36 non-null     object\n",
      " 15  fintech_pilihan_5             11 non-null     object\n",
      " 16  tujuan_1                      22 non-null     object\n",
      " 17  tujuan_2                      34 non-null     object\n",
      " 18  tujuan_3                      39 non-null     object\n",
      " 19  tujuan_4                      14 non-null     object\n",
      " 20  tujuan_5                      9 non-null      object\n",
      " 21  nominal_peminjaman            123 non-null    object\n",
      " 22  keluhan_1                     22 non-null     object\n",
      " 23  keluhan_2                     24 non-null     object\n",
      " 24  keluhan_3                     8 non-null      object\n",
      "dtypes: int64(1), object(24)\n",
      "memory usage: 409.3+ KB\n"
     ]
    }
   ],
   "source": [
    "df_fint.info()"
   ]
  },
  {
   "cell_type": "markdown",
   "metadata": {},
   "source": [
    "# Data Processing"
   ]
  },
  {
   "cell_type": "markdown",
   "metadata": {},
   "source": [
    "### Demografi Responden"
   ]
  },
  {
   "cell_type": "markdown",
   "metadata": {},
   "source": [
    "#### Proporsi dan Frekuensi Gender Responden"
   ]
  },
  {
   "cell_type": "code",
   "execution_count": 5,
   "metadata": {},
   "outputs": [],
   "source": [
    "# karena 5 dataframe masih dalam 1 response form, responden di tiap dataframe sama\n",
    "# maka gunakan salah satu dataframe saja untuk melakukan plot responden\n",
    "\n",
    "\n",
    "df = pd.DataFrame(df_bank[\"jenis_kelamin\"].value_counts()).reset_index()\n",
    "li = []\n",
    "for i in range(len(df)):\n",
    "    li.insert(i ,df[\"jenis_kelamin\"][i]/len(df_bank))\n",
    "df[\"Proporsi\"] = li\n",
    "df.columns = [\"Gender\", \"Frekuensi\", \"Proporsi\"]\n",
    "\n",
    "# memebersihkan data yang \"tidak menjawab\"\n",
    "found = False\n",
    "i = 0\n",
    "while (found == False):\n",
    "    if df[\"Gender\"][i] == \"tidak menjawab\":\n",
    "        found = True\n",
    "    else:\n",
    "        i += 1\n",
    "df = df.drop(labels=[i], axis=0)\n",
    "\n",
    "n=0\n",
    "for i in range(len(df)):\n",
    "   n += df[\"Frekuensi\"][i] \n",
    "for i in range(len(df)):\n",
    "    df.at[i, \"Proporsi\"] = df[\"Frekuensi\"][i]/n"
   ]
  },
  {
   "cell_type": "markdown",
   "metadata": {},
   "source": [
    "Tabel Frekuensi Gender Responden"
   ]
  },
  {
   "cell_type": "code",
   "execution_count": 6,
   "metadata": {},
   "outputs": [
    {
     "data": {
      "text/html": [
       "<div>\n",
       "<style scoped>\n",
       "    .dataframe tbody tr th:only-of-type {\n",
       "        vertical-align: middle;\n",
       "    }\n",
       "\n",
       "    .dataframe tbody tr th {\n",
       "        vertical-align: top;\n",
       "    }\n",
       "\n",
       "    .dataframe thead th {\n",
       "        text-align: right;\n",
       "    }\n",
       "</style>\n",
       "<table border=\"1\" class=\"dataframe\">\n",
       "  <thead>\n",
       "    <tr style=\"text-align: right;\">\n",
       "      <th></th>\n",
       "      <th>Gender</th>\n",
       "      <th>Frekuensi</th>\n",
       "      <th>Proporsi</th>\n",
       "    </tr>\n",
       "  </thead>\n",
       "  <tbody>\n",
       "    <tr>\n",
       "      <th>0</th>\n",
       "      <td>Laki – laki</td>\n",
       "      <td>1049</td>\n",
       "      <td>0.504327</td>\n",
       "    </tr>\n",
       "    <tr>\n",
       "      <th>1</th>\n",
       "      <td>Perempuan</td>\n",
       "      <td>1031</td>\n",
       "      <td>0.495673</td>\n",
       "    </tr>\n",
       "  </tbody>\n",
       "</table>\n",
       "</div>"
      ],
      "text/plain": [
       "        Gender  Frekuensi  Proporsi\n",
       "0  Laki – laki       1049  0.504327\n",
       "1    Perempuan       1031  0.495673"
      ]
     },
     "execution_count": 6,
     "metadata": {},
     "output_type": "execute_result"
    }
   ],
   "source": [
    "df"
   ]
  },
  {
   "cell_type": "code",
   "execution_count": 7,
   "metadata": {},
   "outputs": [
    {
     "data": {
      "image/png": "[encoded data removed]",
      "text/plain": [
       "<Figure size 432x288 with 1 Axes>"
      ]
     },
     "metadata": {},
     "output_type": "display_data"
    }
   ],
   "source": [
    "plt.pie(df[\"Proporsi\"], labels = list(df[\"Gender\"]), autopct = \"%.4f%%\")\n",
    "plt.title(\"Proporsi Gender Responden (n={})\".format(n))\n",
    "plt.show()"
   ]
  },
  {
   "cell_type": "markdown",
   "metadata": {},
   "source": [
    "#### Proporsi dan Frekuensi Usia Responden"
   ]
  },
  {
   "cell_type": "code",
   "execution_count": 8,
   "metadata": {},
   "outputs": [],
   "source": [
    "df = pd.DataFrame(df_bank[\"usia\"].value_counts()).reset_index()\n",
    "li = []\n",
    "for i in range(len(df)):\n",
    "    li.insert(i ,df[\"usia\"][i]/len(df_bank))\n",
    "df[\"Proporsi\"] = li\n",
    "df.columns = [\"Usia\", \"Frekuensi\", \"Proporsi\"]\n",
    "\n",
    "# memebersihkan data yang \"tidak menjawab\"\n",
    "found = False\n",
    "i = 0\n",
    "while (found == False):\n",
    "    if df[\"Usia\"][i] == \"tidak menjawab\":\n",
    "        found = True\n",
    "    else:\n",
    "        i += 1\n",
    "df = df.drop(labels=[i], axis=0)\n",
    "\n",
    "n=0\n",
    "for i in range(len(df)):\n",
    "   n += df[\"Frekuensi\"][i] \n",
    "for i in range(len(df)):\n",
    "    df.at[i, \"Proporsi\"] = df[\"Frekuensi\"][i]/n"
   ]
  },
  {
   "cell_type": "markdown",
   "metadata": {},
   "source": [
    "Tabel Frekuensi Usia Responden"
   ]
  },
  {
   "cell_type": "code",
   "execution_count": 9,
   "metadata": {},
   "outputs": [
    {
     "data": {
      "text/html": [
       "<div>\n",
       "<style scoped>\n",
       "    .dataframe tbody tr th:only-of-type {\n",
       "        vertical-align: middle;\n",
       "    }\n",
       "\n",
       "    .dataframe tbody tr th {\n",
       "        vertical-align: top;\n",
       "    }\n",
       "\n",
       "    .dataframe thead th {\n",
       "        text-align: right;\n",
       "    }\n",
       "</style>\n",
       "<table border=\"1\" class=\"dataframe\">\n",
       "  <thead>\n",
       "    <tr style=\"text-align: right;\">\n",
       "      <th></th>\n",
       "      <th>Usia</th>\n",
       "      <th>Frekuensi</th>\n",
       "      <th>Proporsi</th>\n",
       "    </tr>\n",
       "  </thead>\n",
       "  <tbody>\n",
       "    <tr>\n",
       "      <th>0</th>\n",
       "      <td>15-20 tahun</td>\n",
       "      <td>1489</td>\n",
       "      <td>0.713806</td>\n",
       "    </tr>\n",
       "    <tr>\n",
       "      <th>1</th>\n",
       "      <td>21-30 tahun</td>\n",
       "      <td>288</td>\n",
       "      <td>0.138063</td>\n",
       "    </tr>\n",
       "    <tr>\n",
       "      <th>2</th>\n",
       "      <td>41-50 tahun</td>\n",
       "      <td>143</td>\n",
       "      <td>0.068552</td>\n",
       "    </tr>\n",
       "    <tr>\n",
       "      <th>3</th>\n",
       "      <td>&gt;50 tahun</td>\n",
       "      <td>84</td>\n",
       "      <td>0.040268</td>\n",
       "    </tr>\n",
       "    <tr>\n",
       "      <th>4</th>\n",
       "      <td>31-40 tahun</td>\n",
       "      <td>70</td>\n",
       "      <td>0.033557</td>\n",
       "    </tr>\n",
       "    <tr>\n",
       "      <th>5</th>\n",
       "      <td>&lt; 15 tahun</td>\n",
       "      <td>12</td>\n",
       "      <td>0.005753</td>\n",
       "    </tr>\n",
       "  </tbody>\n",
       "</table>\n",
       "</div>"
      ],
      "text/plain": [
       "          Usia  Frekuensi  Proporsi\n",
       "0  15-20 tahun       1489  0.713806\n",
       "1  21-30 tahun        288  0.138063\n",
       "2  41-50 tahun        143  0.068552\n",
       "3    >50 tahun         84  0.040268\n",
       "4  31-40 tahun         70  0.033557\n",
       "5   < 15 tahun         12  0.005753"
      ]
     },
     "execution_count": 9,
     "metadata": {},
     "output_type": "execute_result"
    }
   ],
   "source": [
    "df"
   ]
  },
  {
   "cell_type": "code",
   "execution_count": 10,
   "metadata": {},
   "outputs": [
    {
     "data": {
      "image/png": "[encoded data removed]",
      "text/plain": [
       "<Figure size 432x288 with 1 Axes>"
      ]
     },
     "metadata": {},
     "output_type": "display_data"
    }
   ],
   "source": [
    "plt.pie(df[\"Proporsi\"], labels = list(df[\"Usia\"]), autopct = \"%.4f%%\")\n",
    "plt.title(\"Proporsi Usia Responden (n={})\".format(n))\n",
    "plt.show()"
   ]
  },
  {
   "cell_type": "markdown",
   "metadata": {},
   "source": [
    "#### Proporsi dan Frekuensi Pendidikan Responden"
   ]
  },
  {
   "cell_type": "code",
   "execution_count": 11,
   "metadata": {},
   "outputs": [],
   "source": [
    "df = pd.DataFrame(df_bank[\"pendidikan\"].value_counts()).reset_index()\n",
    "li = []\n",
    "for i in range(len(df)):\n",
    "    li.insert(i ,df[\"pendidikan\"][i]/len(df_bank))\n",
    "df[\"Proporsi\"] = li\n",
    "df.columns = [\"Pendidikan\", \"Frekuensi\", \"Proporsi\"]\n",
    "\n",
    "# memebersihkan data yang \"tidak menjawab\"\n",
    "found = False\n",
    "i = 0\n",
    "while (found == False):\n",
    "    if df[\"Pendidikan\"][i] == \"tidak menjawab\":\n",
    "        found = True\n",
    "    else:\n",
    "        i += 1\n",
    "n = df[\"Frekuensi\"][i]\n",
    "df = df.drop(labels=[i], axis=0)\n",
    "n = len(df_bank) - n\n",
    "\n",
    "df = df.drop(labels=[\"Proporsi\"], axis=1)\n",
    "\n",
    "li2 = df.values.tolist()\n",
    "li3 = []\n",
    "for i in range(len(li2)):\n",
    "    li3.insert(i ,li2[i][1]/n)\n",
    "\n",
    "df[\"Proporsi\"] = li3"
   ]
  },
  {
   "cell_type": "markdown",
   "metadata": {},
   "source": [
    "Tabel Frekuensi Pendidikan Terakhir Responden"
   ]
  },
  {
   "cell_type": "code",
   "execution_count": 12,
   "metadata": {},
   "outputs": [
    {
     "data": {
      "text/html": [
       "<div>\n",
       "<style scoped>\n",
       "    .dataframe tbody tr th:only-of-type {\n",
       "        vertical-align: middle;\n",
       "    }\n",
       "\n",
       "    .dataframe tbody tr th {\n",
       "        vertical-align: top;\n",
       "    }\n",
       "\n",
       "    .dataframe thead th {\n",
       "        text-align: right;\n",
       "    }\n",
       "</style>\n",
       "<table border=\"1\" class=\"dataframe\">\n",
       "  <thead>\n",
       "    <tr style=\"text-align: right;\">\n",
       "      <th></th>\n",
       "      <th>Pendidikan</th>\n",
       "      <th>Frekuensi</th>\n",
       "      <th>Proporsi</th>\n",
       "    </tr>\n",
       "  </thead>\n",
       "  <tbody>\n",
       "    <tr>\n",
       "      <th>0</th>\n",
       "      <td>SMA</td>\n",
       "      <td>1468</td>\n",
       "      <td>0.705091</td>\n",
       "    </tr>\n",
       "    <tr>\n",
       "      <th>1</th>\n",
       "      <td>S1</td>\n",
       "      <td>506</td>\n",
       "      <td>0.243036</td>\n",
       "    </tr>\n",
       "    <tr>\n",
       "      <th>2</th>\n",
       "      <td>S2</td>\n",
       "      <td>69</td>\n",
       "      <td>0.033141</td>\n",
       "    </tr>\n",
       "    <tr>\n",
       "      <th>3</th>\n",
       "      <td>SMP</td>\n",
       "      <td>18</td>\n",
       "      <td>0.008646</td>\n",
       "    </tr>\n",
       "    <tr>\n",
       "      <th>5</th>\n",
       "      <td>S3</td>\n",
       "      <td>13</td>\n",
       "      <td>0.006244</td>\n",
       "    </tr>\n",
       "    <tr>\n",
       "      <th>6</th>\n",
       "      <td>SD</td>\n",
       "      <td>8</td>\n",
       "      <td>0.003842</td>\n",
       "    </tr>\n",
       "  </tbody>\n",
       "</table>\n",
       "</div>"
      ],
      "text/plain": [
       "  Pendidikan  Frekuensi  Proporsi\n",
       "0        SMA       1468  0.705091\n",
       "1         S1        506  0.243036\n",
       "2         S2         69  0.033141\n",
       "3        SMP         18  0.008646\n",
       "5         S3         13  0.006244\n",
       "6         SD          8  0.003842"
      ]
     },
     "execution_count": 12,
     "metadata": {},
     "output_type": "execute_result"
    }
   ],
   "source": [
    "df"
   ]
  },
  {
   "cell_type": "code",
   "execution_count": 13,
   "metadata": {},
   "outputs": [
    {
     "data": {
      "image/png": "[encoded data removed]",
      "text/plain": [
       "<Figure size 432x288 with 1 Axes>"
      ]
     },
     "metadata": {},
     "output_type": "display_data"
    }
   ],
   "source": [
    "plt.pie(df[\"Proporsi\"], labels = list(df[\"Pendidikan\"]), autopct = \"%.4f%%\")\n",
    "plt.title(\"Proporsi Pendidikan Terakhir Responden (n={})\".format(n))\n",
    "plt.show()"
   ]
  },
  {
   "cell_type": "markdown",
   "metadata": {},
   "source": [
    "#### Proporsi dan Frekuensi Penghasilan Responden"
   ]
  },
  {
   "cell_type": "code",
   "execution_count": 14,
   "metadata": {},
   "outputs": [],
   "source": [
    "df = pd.DataFrame(df_bank[\"penghasilan\"].value_counts()).reset_index()\n",
    "li = []\n",
    "for i in range(len(df)):\n",
    "    li.insert(i ,df[\"penghasilan\"][i]/len(df_bank))\n",
    "df[\"Proporsi\"] = li\n",
    "df.columns = [\"Penghasilan\", \"Frekuensi\", \"Proporsi\"]\n",
    "\n",
    "# memebersihkan data yang \"tidak menjawab\"\n",
    "found = False\n",
    "i = 0\n",
    "while (found == False):\n",
    "    if df[\"Penghasilan\"][i] == \"tidak menjawab\":\n",
    "        found = True\n",
    "    else:\n",
    "        i += 1\n",
    "n = df[\"Frekuensi\"][i]\n",
    "df = df.drop(labels=[i], axis=0)\n",
    "n = len(df_bank) - n\n",
    "\n",
    "for i in range(len(df)):\n",
    "    df.at[i, \"Proporsi\"] = df[\"Frekuensi\"][i]/n"
   ]
  },
  {
   "cell_type": "markdown",
   "metadata": {},
   "source": [
    "Tabel Frekuensi Penghasilan Responden"
   ]
  },
  {
   "cell_type": "code",
   "execution_count": 15,
   "metadata": {},
   "outputs": [
    {
     "data": {
      "text/html": [
       "<div>\n",
       "<style scoped>\n",
       "    .dataframe tbody tr th:only-of-type {\n",
       "        vertical-align: middle;\n",
       "    }\n",
       "\n",
       "    .dataframe tbody tr th {\n",
       "        vertical-align: top;\n",
       "    }\n",
       "\n",
       "    .dataframe thead th {\n",
       "        text-align: right;\n",
       "    }\n",
       "</style>\n",
       "<table border=\"1\" class=\"dataframe\">\n",
       "  <thead>\n",
       "    <tr style=\"text-align: right;\">\n",
       "      <th></th>\n",
       "      <th>Penghasilan</th>\n",
       "      <th>Frekuensi</th>\n",
       "      <th>Proporsi</th>\n",
       "    </tr>\n",
       "  </thead>\n",
       "  <tbody>\n",
       "    <tr>\n",
       "      <th>0</th>\n",
       "      <td>&lt; Rp 2 juta</td>\n",
       "      <td>1502</td>\n",
       "      <td>0.732683</td>\n",
       "    </tr>\n",
       "    <tr>\n",
       "      <th>1</th>\n",
       "      <td>Rp 2 juta – Rp 5 juta</td>\n",
       "      <td>264</td>\n",
       "      <td>0.128780</td>\n",
       "    </tr>\n",
       "    <tr>\n",
       "      <th>2</th>\n",
       "      <td>Rp 5 juta – Rp 10 juta</td>\n",
       "      <td>153</td>\n",
       "      <td>0.074634</td>\n",
       "    </tr>\n",
       "    <tr>\n",
       "      <th>3</th>\n",
       "      <td>&gt; Rp 10 juta</td>\n",
       "      <td>131</td>\n",
       "      <td>0.063902</td>\n",
       "    </tr>\n",
       "  </tbody>\n",
       "</table>\n",
       "</div>"
      ],
      "text/plain": [
       "              Penghasilan  Frekuensi  Proporsi\n",
       "0             < Rp 2 juta       1502  0.732683\n",
       "1   Rp 2 juta – Rp 5 juta        264  0.128780\n",
       "2  Rp 5 juta – Rp 10 juta        153  0.074634\n",
       "3            > Rp 10 juta        131  0.063902"
      ]
     },
     "execution_count": 15,
     "metadata": {},
     "output_type": "execute_result"
    }
   ],
   "source": [
    "df"
   ]
  },
  {
   "cell_type": "code",
   "execution_count": 16,
   "metadata": {},
   "outputs": [
    {
     "data": {
      "image/png": "[encoded data removed]",
      "text/plain": [
       "<Figure size 432x288 with 1 Axes>"
      ]
     },
     "metadata": {},
     "output_type": "display_data"
    }
   ],
   "source": [
    "plt.pie(df[\"Proporsi\"], labels = list(df[\"Penghasilan\"]), autopct = \"%.4f%%\")\n",
    "plt.title(\"Proporsi Penghasilan Responden (n={})\".format(n))\n",
    "plt.show()"
   ]
  },
  {
   "cell_type": "code",
   "execution_count": 17,
   "metadata": {},
   "outputs": [],
   "source": [
    "n = len(df_bank)"
   ]
  },
  {
   "cell_type": "markdown",
   "metadata": {},
   "source": [
    "### Aktivitas online yang meningkat"
   ]
  },
  {
   "cell_type": "code",
   "execution_count": 18,
   "metadata": {},
   "outputs": [],
   "source": [
    "a1=0\n",
    "a2=0\n",
    "a3=0\n",
    "a4=0\n",
    "a5=0\n",
    "n = len(df_bank)\n",
    "for i in range(len(df_bank)):\n",
    "    if pd.isna(df_bank.iloc[i,5]) != True:\n",
    "        a1 += 1\n",
    "    if pd.isna(df_bank.iloc[i,6]) != True:\n",
    "        a2 += 1\n",
    "    if pd.isna(df_bank.iloc[i,7]) != True:\n",
    "        a3 += 1\n",
    "    if pd.isna(df_bank.iloc[i,8]) != True:\n",
    "        a4 += 1\n",
    "    if pd.isna(df_bank.iloc[i,9]) != True:\n",
    "        a5 += 1\n",
    "li_frek = [a1,a2,a3,a4,a5]\n",
    "li_prop = [a1/n,a2/n,a3/n,a4/n,a5/n]\n",
    "li_sub = [\"Belanja online\", \"Streaming video\", \"Kelas online\", \"Medsos\", \"Konsul kesehatan online\"]\n",
    "data = {\n",
    "    \"Aktivitas\": li_sub,\n",
    "    \"Frekuensi\": li_frek,\n",
    "    \"Proporsi\": li_prop\n",
    "}\n",
    "df = pd.DataFrame(data)"
   ]
  },
  {
   "cell_type": "markdown",
   "metadata": {},
   "source": [
    "Tabel Frekuensi dan Proporsi aktivitas online responden yang meningkat"
   ]
  },
  {
   "cell_type": "code",
   "execution_count": 19,
   "metadata": {},
   "outputs": [
    {
     "data": {
      "text/html": [
       "<div>\n",
       "<style scoped>\n",
       "    .dataframe tbody tr th:only-of-type {\n",
       "        vertical-align: middle;\n",
       "    }\n",
       "\n",
       "    .dataframe tbody tr th {\n",
       "        vertical-align: top;\n",
       "    }\n",
       "\n",
       "    .dataframe thead th {\n",
       "        text-align: right;\n",
       "    }\n",
       "</style>\n",
       "<table border=\"1\" class=\"dataframe\">\n",
       "  <thead>\n",
       "    <tr style=\"text-align: right;\">\n",
       "      <th></th>\n",
       "      <th>Aktivitas</th>\n",
       "      <th>Frekuensi</th>\n",
       "      <th>Proporsi</th>\n",
       "    </tr>\n",
       "  </thead>\n",
       "  <tbody>\n",
       "    <tr>\n",
       "      <th>0</th>\n",
       "      <td>Belanja online</td>\n",
       "      <td>999</td>\n",
       "      <td>0.476850</td>\n",
       "    </tr>\n",
       "    <tr>\n",
       "      <th>1</th>\n",
       "      <td>Streaming video</td>\n",
       "      <td>1445</td>\n",
       "      <td>0.689737</td>\n",
       "    </tr>\n",
       "    <tr>\n",
       "      <th>2</th>\n",
       "      <td>Kelas online</td>\n",
       "      <td>1426</td>\n",
       "      <td>0.680668</td>\n",
       "    </tr>\n",
       "    <tr>\n",
       "      <th>3</th>\n",
       "      <td>Medsos</td>\n",
       "      <td>1510</td>\n",
       "      <td>0.720764</td>\n",
       "    </tr>\n",
       "    <tr>\n",
       "      <th>4</th>\n",
       "      <td>Konsul kesehatan online</td>\n",
       "      <td>100</td>\n",
       "      <td>0.047733</td>\n",
       "    </tr>\n",
       "  </tbody>\n",
       "</table>\n",
       "</div>"
      ],
      "text/plain": [
       "                 Aktivitas  Frekuensi  Proporsi\n",
       "0           Belanja online        999  0.476850\n",
       "1          Streaming video       1445  0.689737\n",
       "2             Kelas online       1426  0.680668\n",
       "3                   Medsos       1510  0.720764\n",
       "4  Konsul kesehatan online        100  0.047733"
      ]
     },
     "execution_count": 19,
     "metadata": {},
     "output_type": "execute_result"
    }
   ],
   "source": [
    "df"
   ]
  },
  {
   "cell_type": "code",
   "execution_count": 20,
   "metadata": {},
   "outputs": [
    {
     "data": {
      "image/png": "[encoded data removed]",
      "text/plain": [
       "<Figure size 432x288 with 1 Axes>"
      ]
     },
     "metadata": {},
     "output_type": "display_data"
    }
   ],
   "source": [
    "plt.bar(li_sub, li_prop, width = 0.3)\n",
    "plt.xlabel(\"Aktivitas online responden yang meningkat\")\n",
    "plt.ylabel(\"Proporsi\")\n",
    "plt.title(\"Proporsi peningkatan aktivitas online responden (n={})\".format(len(df_bank)))\n",
    "plt.show()"
   ]
  },
  {
   "cell_type": "markdown",
   "metadata": {},
   "source": [
    "### Confidence interval proporsi aktivitas online responden yang meningkat"
   ]
  },
  {
   "cell_type": "code",
   "execution_count": 21,
   "metadata": {},
   "outputs": [
    {
     "data": {
      "text/html": [
       "<div>\n",
       "<style scoped>\n",
       "    .dataframe tbody tr th:only-of-type {\n",
       "        vertical-align: middle;\n",
       "    }\n",
       "\n",
       "    .dataframe tbody tr th {\n",
       "        vertical-align: top;\n",
       "    }\n",
       "\n",
       "    .dataframe thead th {\n",
       "        text-align: right;\n",
       "    }\n",
       "</style>\n",
       "<table border=\"1\" class=\"dataframe\">\n",
       "  <thead>\n",
       "    <tr style=\"text-align: right;\">\n",
       "      <th></th>\n",
       "      <th>Aktivitas</th>\n",
       "      <th>Frekuensi</th>\n",
       "      <th>Proporsi</th>\n",
       "      <th>z(alpha/2)</th>\n",
       "      <th>error</th>\n",
       "      <th>batas bawah</th>\n",
       "      <th>batas atas</th>\n",
       "    </tr>\n",
       "  </thead>\n",
       "  <tbody>\n",
       "    <tr>\n",
       "      <th>0</th>\n",
       "      <td>Belanja online</td>\n",
       "      <td>999</td>\n",
       "      <td>0.476850</td>\n",
       "      <td>1.644854</td>\n",
       "      <td>0.017949</td>\n",
       "      <td>0.458901</td>\n",
       "      <td>0.494799</td>\n",
       "    </tr>\n",
       "    <tr>\n",
       "      <th>1</th>\n",
       "      <td>Streaming video</td>\n",
       "      <td>1445</td>\n",
       "      <td>0.689737</td>\n",
       "      <td>1.644854</td>\n",
       "      <td>0.016624</td>\n",
       "      <td>0.673113</td>\n",
       "      <td>0.706362</td>\n",
       "    </tr>\n",
       "    <tr>\n",
       "      <th>2</th>\n",
       "      <td>Kelas online</td>\n",
       "      <td>1426</td>\n",
       "      <td>0.680668</td>\n",
       "      <td>1.644854</td>\n",
       "      <td>0.016754</td>\n",
       "      <td>0.663914</td>\n",
       "      <td>0.697422</td>\n",
       "    </tr>\n",
       "    <tr>\n",
       "      <th>3</th>\n",
       "      <td>Medsos</td>\n",
       "      <td>1510</td>\n",
       "      <td>0.720764</td>\n",
       "      <td>1.644854</td>\n",
       "      <td>0.016122</td>\n",
       "      <td>0.704642</td>\n",
       "      <td>0.736886</td>\n",
       "    </tr>\n",
       "    <tr>\n",
       "      <th>4</th>\n",
       "      <td>Konsul kesehatan online</td>\n",
       "      <td>100</td>\n",
       "      <td>0.047733</td>\n",
       "      <td>1.644854</td>\n",
       "      <td>0.007662</td>\n",
       "      <td>0.040071</td>\n",
       "      <td>0.055394</td>\n",
       "    </tr>\n",
       "  </tbody>\n",
       "</table>\n",
       "</div>"
      ],
      "text/plain": [
       "                 Aktivitas  Frekuensi  Proporsi  z(alpha/2)     error  \\\n",
       "0           Belanja online        999  0.476850    1.644854  0.017949   \n",
       "1          Streaming video       1445  0.689737    1.644854  0.016624   \n",
       "2             Kelas online       1426  0.680668    1.644854  0.016754   \n",
       "3                   Medsos       1510  0.720764    1.644854  0.016122   \n",
       "4  Konsul kesehatan online        100  0.047733    1.644854  0.007662   \n",
       "\n",
       "   batas bawah  batas atas  \n",
       "0     0.458901    0.494799  \n",
       "1     0.673113    0.706362  \n",
       "2     0.663914    0.697422  \n",
       "3     0.704642    0.736886  \n",
       "4     0.040071    0.055394  "
      ]
     },
     "execution_count": 21,
     "metadata": {},
     "output_type": "execute_result"
    }
   ],
   "source": [
    "df['z(alpha/2)'] = norm.ppf(0.95)\n",
    "df['error'] = df['z(alpha/2)']*(df['Proporsi']*(1-df['Proporsi'])/len(df_bank))**(1/2)\n",
    "df['batas bawah'] = df['Proporsi'] - df['error']\n",
    "df['batas atas'] = df['Proporsi'] + df['error']\n",
    "df"
   ]
  },
  {
   "cell_type": "markdown",
   "metadata": {},
   "source": [
    "## Topik 5: Fintech Lending"
   ]
  },
  {
   "cell_type": "markdown",
   "metadata": {},
   "source": [
    "### Aktivitas Penggunaan Fintech Lending Responden"
   ]
  },
  {
   "cell_type": "code",
   "execution_count": 22,
   "metadata": {},
   "outputs": [
    {
     "data": {
      "text/plain": [
       "Index(['responden', 'jenis_kelamin', 'usia', 'pendidikan', 'penghasilan',\n",
       "       'aktivitas_meningkat_1', 'aktivitas_meningkat_2',\n",
       "       'aktivitas_meningkat_3', 'aktivitas_meningkat_4',\n",
       "       'aktivitas_meningkat_5', 'menggunakan_fintech_lending?',\n",
       "       'fintech_pilihan_1', 'fintech_pilihan_2', 'fintech_pilihan_3',\n",
       "       'fintech_pilihan_4', 'fintech_pilihan_5', 'tujuan_1', 'tujuan_2',\n",
       "       'tujuan_3', 'tujuan_4', 'tujuan_5', 'nominal_peminjaman', 'keluhan_1',\n",
       "       'keluhan_2', 'keluhan_3'],\n",
       "      dtype='object')"
      ]
     },
     "execution_count": 22,
     "metadata": {},
     "output_type": "execute_result"
    }
   ],
   "source": [
    "df_fint.columns"
   ]
  },
  {
   "cell_type": "markdown",
   "metadata": {},
   "source": [
    "#### Proporsi Responden Menggunakan Fintech Lending"
   ]
  },
  {
   "cell_type": "code",
   "execution_count": 23,
   "metadata": {},
   "outputs": [],
   "source": [
    "n = len(df_fint)\n",
    "ya = 0\n",
    "tidak = 0\n",
    "for i in range(n):\n",
    "    if df_fint[\"menggunakan_fintech_lending?\"][i] == \"ya\":\n",
    "        ya += 1\n",
    "    elif df_fint[\"menggunakan_fintech_lending?\"][i] == \"tidak\":\n",
    "        tidak += 1\n",
    "li_sub = [\"ya\", \"tidak\"]\n",
    "li_frek = [ya, tidak]\n",
    "li_prop = [ya/n, tidak/n]\n",
    "data = {\n",
    "    \"Menggunakan fintech lending?\": li_sub,\n",
    "    \"Frekuensi\": li_frek,\n",
    "    \"Proporsi\": li_prop\n",
    "}\n",
    "df = pd.DataFrame(data)"
   ]
  },
  {
   "cell_type": "markdown",
   "metadata": {},
   "source": [
    "Tabel frekuensi dan proporsi responden menggunakan fintech lending"
   ]
  },
  {
   "cell_type": "code",
   "execution_count": 24,
   "metadata": {},
   "outputs": [
    {
     "data": {
      "text/html": [
       "<div>\n",
       "<style scoped>\n",
       "    .dataframe tbody tr th:only-of-type {\n",
       "        vertical-align: middle;\n",
       "    }\n",
       "\n",
       "    .dataframe tbody tr th {\n",
       "        vertical-align: top;\n",
       "    }\n",
       "\n",
       "    .dataframe thead th {\n",
       "        text-align: right;\n",
       "    }\n",
       "</style>\n",
       "<table border=\"1\" class=\"dataframe\">\n",
       "  <thead>\n",
       "    <tr style=\"text-align: right;\">\n",
       "      <th></th>\n",
       "      <th>Menggunakan fintech lending?</th>\n",
       "      <th>Frekuensi</th>\n",
       "      <th>Proporsi</th>\n",
       "    </tr>\n",
       "  </thead>\n",
       "  <tbody>\n",
       "    <tr>\n",
       "      <th>0</th>\n",
       "      <td>ya</td>\n",
       "      <td>123</td>\n",
       "      <td>0.058711</td>\n",
       "    </tr>\n",
       "    <tr>\n",
       "      <th>1</th>\n",
       "      <td>tidak</td>\n",
       "      <td>1972</td>\n",
       "      <td>0.941289</td>\n",
       "    </tr>\n",
       "  </tbody>\n",
       "</table>\n",
       "</div>"
      ],
      "text/plain": [
       "  Menggunakan fintech lending?  Frekuensi  Proporsi\n",
       "0                           ya        123  0.058711\n",
       "1                        tidak       1972  0.941289"
      ]
     },
     "execution_count": 24,
     "metadata": {},
     "output_type": "execute_result"
    }
   ],
   "source": [
    "df"
   ]
  },
  {
   "cell_type": "code",
   "execution_count": 25,
   "metadata": {},
   "outputs": [
    {
     "data": {
      "image/png": "[encoded data removed]",
      "text/plain": [
       "<Figure size 432x288 with 1 Axes>"
      ]
     },
     "metadata": {},
     "output_type": "display_data"
    }
   ],
   "source": [
    "plt.pie(df[\"Proporsi\"], labels = list(df[\"Menggunakan fintech lending?\"]), autopct = \"%.4f%%\")\n",
    "plt.title(\"Proporsi Penghasilan Responden (n={})\".format(n))\n",
    "plt.show()"
   ]
  },
  {
   "cell_type": "markdown",
   "metadata": {},
   "source": [
    "#### Proporsi Layanan Fintech Lending yang Dipakai"
   ]
  },
  {
   "cell_type": "code",
   "execution_count": 26,
   "metadata": {},
   "outputs": [],
   "source": [
    "fin1 = 0\n",
    "fin2 = 0\n",
    "fin3 = 0\n",
    "fin4 = 0\n",
    "fin5 = 0\n",
    "n = len(df_fint)\n",
    "for i in range(len(df_fint)):\n",
    "    if pd.isna(df_fint.iloc[i, 11]) != True:\n",
    "        fin1 += 1\n",
    "    elif pd.isna(df_fint.iloc[i, 12]) != True:\n",
    "        fin2 += 1\n",
    "    elif pd.isna(df_fint.iloc[i, 13]) != True:\n",
    "        fin3 += 1\n",
    "    elif pd.isna(df_fint.iloc[i, 14]) != True:\n",
    "        fin4 += 1\n",
    "    elif pd.isna(df_fint.iloc[i, 15]) != True:\n",
    "        fin5 += 1\n",
    "li_frek = [fin1,fin2,fin3,fin4,fin5]\n",
    "li_sub = [\"Kredivo\", \"Danacepat\", \"Cicil\", \"Akulaku\", \"Investree\"]\n",
    "li_prop = [fin1/n,fin2/n,fin3/n,fin4/n,fin5/n]\n",
    "data = {\n",
    "    \"Fintech\": li_sub,\n",
    "    \"Frekuensi\": li_frek,\n",
    "    \"Proporsi\": li_prop\n",
    "}\n",
    "df = pd.DataFrame(data)\n",
    "df_finlend = df"
   ]
  },
  {
   "cell_type": "markdown",
   "metadata": {},
   "source": [
    "Tabel Frekuensi Fintech Lending yang Digunakan Responden"
   ]
  },
  {
   "cell_type": "code",
   "execution_count": 27,
   "metadata": {},
   "outputs": [
    {
     "data": {
      "text/html": [
       "<div>\n",
       "<style scoped>\n",
       "    .dataframe tbody tr th:only-of-type {\n",
       "        vertical-align: middle;\n",
       "    }\n",
       "\n",
       "    .dataframe tbody tr th {\n",
       "        vertical-align: top;\n",
       "    }\n",
       "\n",
       "    .dataframe thead th {\n",
       "        text-align: right;\n",
       "    }\n",
       "</style>\n",
       "<table border=\"1\" class=\"dataframe\">\n",
       "  <thead>\n",
       "    <tr style=\"text-align: right;\">\n",
       "      <th></th>\n",
       "      <th>Fintech</th>\n",
       "      <th>Frekuensi</th>\n",
       "      <th>Proporsi</th>\n",
       "    </tr>\n",
       "  </thead>\n",
       "  <tbody>\n",
       "    <tr>\n",
       "      <th>0</th>\n",
       "      <td>Kredivo</td>\n",
       "      <td>44</td>\n",
       "      <td>0.021002</td>\n",
       "    </tr>\n",
       "    <tr>\n",
       "      <th>1</th>\n",
       "      <td>Danacepat</td>\n",
       "      <td>4</td>\n",
       "      <td>0.001909</td>\n",
       "    </tr>\n",
       "    <tr>\n",
       "      <th>2</th>\n",
       "      <td>Cicil</td>\n",
       "      <td>14</td>\n",
       "      <td>0.006683</td>\n",
       "    </tr>\n",
       "    <tr>\n",
       "      <th>3</th>\n",
       "      <td>Akulaku</td>\n",
       "      <td>15</td>\n",
       "      <td>0.007160</td>\n",
       "    </tr>\n",
       "    <tr>\n",
       "      <th>4</th>\n",
       "      <td>Investree</td>\n",
       "      <td>7</td>\n",
       "      <td>0.003341</td>\n",
       "    </tr>\n",
       "  </tbody>\n",
       "</table>\n",
       "</div>"
      ],
      "text/plain": [
       "     Fintech  Frekuensi  Proporsi\n",
       "0    Kredivo         44  0.021002\n",
       "1  Danacepat          4  0.001909\n",
       "2      Cicil         14  0.006683\n",
       "3    Akulaku         15  0.007160\n",
       "4  Investree          7  0.003341"
      ]
     },
     "execution_count": 27,
     "metadata": {},
     "output_type": "execute_result"
    }
   ],
   "source": [
    "df"
   ]
  },
  {
   "cell_type": "code",
   "execution_count": 28,
   "metadata": {},
   "outputs": [
    {
     "data": {
      "image/png": "[encoded data removed]",
      "text/plain": [
       "<Figure size 432x288 with 1 Axes>"
      ]
     },
     "metadata": {},
     "output_type": "display_data"
    }
   ],
   "source": [
    "plt.bar(li_sub, li_prop, width = 0.3)\n",
    "plt.xlabel(\"Nama Fintech Lending\")\n",
    "plt.ylabel(\"Proporsi\")\n",
    "plt.title(\"Proporsi Fintech Lending yang digunakan responden (n={})\".format(len(df_fint)))\n",
    "plt.show()"
   ]
  },
  {
   "cell_type": "markdown",
   "metadata": {},
   "source": [
    "####  Proporsi Tujuan Menggunakan Fintech Lending Terhadap Jumlah Pengguna Fintech Lending"
   ]
  },
  {
   "cell_type": "code",
   "execution_count": 29,
   "metadata": {},
   "outputs": [],
   "source": [
    "tuj1 = 0\n",
    "tuj2 = 0\n",
    "tuj3 = 0\n",
    "tuj4 = 0\n",
    "tuj5 = 0\n",
    "# n adalah jumlah responden yang menggunakan fintech lending\n",
    "n = ya\n",
    "for i in range(len(df_fint)):\n",
    "    if pd.isna(df_fint.iloc[i, 16]) != True:\n",
    "        tuj1 += 1\n",
    "    elif pd.isna(df_fint.iloc[i, 17]) != True:\n",
    "        tuj2 += 1\n",
    "    elif pd.isna(df_fint.iloc[i, 18]) != True:\n",
    "        tuj3 += 1\n",
    "    elif pd.isna(df_fint.iloc[i, 19]) != True:\n",
    "        tuj4 += 1\n",
    "    elif pd.isna(df_fint.iloc[i, 20]) != True:\n",
    "        tuj5 += 1\n",
    "li_frek = [tuj1,tuj2,tuj3,tuj4,tuj5]\n",
    "li_prop = [tuj1/n,tuj2/n,tuj3/n,tuj4/n,tuj5/n]\n",
    "li_sub = [\"Modal Usaha\", \"Keperluan harian\", \"Belanja online\", \"Biaya pendidikan\", \"Beli kendaraan\"]\n",
    "data = {\n",
    "    \"Tujuan\": li_sub,\n",
    "    \"Frekuensi\": li_frek,\n",
    "    \"Proporsi\": li_prop\n",
    "}\n",
    "df = pd.DataFrame(data)\n",
    "df_lend = df"
   ]
  },
  {
   "cell_type": "markdown",
   "metadata": {},
   "source": [
    "Tabel Frekuensi Tujuan Pengguna Fintech Lending"
   ]
  },
  {
   "cell_type": "code",
   "execution_count": 30,
   "metadata": {},
   "outputs": [
    {
     "data": {
      "text/html": [
       "<div>\n",
       "<style scoped>\n",
       "    .dataframe tbody tr th:only-of-type {\n",
       "        vertical-align: middle;\n",
       "    }\n",
       "\n",
       "    .dataframe tbody tr th {\n",
       "        vertical-align: top;\n",
       "    }\n",
       "\n",
       "    .dataframe thead th {\n",
       "        text-align: right;\n",
       "    }\n",
       "</style>\n",
       "<table border=\"1\" class=\"dataframe\">\n",
       "  <thead>\n",
       "    <tr style=\"text-align: right;\">\n",
       "      <th></th>\n",
       "      <th>Tujuan</th>\n",
       "      <th>Frekuensi</th>\n",
       "      <th>Proporsi</th>\n",
       "    </tr>\n",
       "  </thead>\n",
       "  <tbody>\n",
       "    <tr>\n",
       "      <th>0</th>\n",
       "      <td>Modal Usaha</td>\n",
       "      <td>22</td>\n",
       "      <td>0.178862</td>\n",
       "    </tr>\n",
       "    <tr>\n",
       "      <th>1</th>\n",
       "      <td>Keperluan harian</td>\n",
       "      <td>25</td>\n",
       "      <td>0.203252</td>\n",
       "    </tr>\n",
       "    <tr>\n",
       "      <th>2</th>\n",
       "      <td>Belanja online</td>\n",
       "      <td>26</td>\n",
       "      <td>0.211382</td>\n",
       "    </tr>\n",
       "    <tr>\n",
       "      <th>3</th>\n",
       "      <td>Biaya pendidikan</td>\n",
       "      <td>8</td>\n",
       "      <td>0.065041</td>\n",
       "    </tr>\n",
       "    <tr>\n",
       "      <th>4</th>\n",
       "      <td>Beli kendaraan</td>\n",
       "      <td>4</td>\n",
       "      <td>0.032520</td>\n",
       "    </tr>\n",
       "  </tbody>\n",
       "</table>\n",
       "</div>"
      ],
      "text/plain": [
       "             Tujuan  Frekuensi  Proporsi\n",
       "0       Modal Usaha         22  0.178862\n",
       "1  Keperluan harian         25  0.203252\n",
       "2    Belanja online         26  0.211382\n",
       "3  Biaya pendidikan          8  0.065041\n",
       "4    Beli kendaraan          4  0.032520"
      ]
     },
     "execution_count": 30,
     "metadata": {},
     "output_type": "execute_result"
    }
   ],
   "source": [
    "df"
   ]
  },
  {
   "cell_type": "code",
   "execution_count": 31,
   "metadata": {},
   "outputs": [
    {
     "data": {
      "image/png": "[encoded data removed]",
      "text/plain": [
       "<Figure size 432x288 with 1 Axes>"
      ]
     },
     "metadata": {},
     "output_type": "display_data"
    }
   ],
   "source": [
    "plt.bar(li_sub, li_prop, width = 0.2)\n",
    "plt.xlabel(\"Tujan\")\n",
    "plt.ylabel(\"Proporsi\")\n",
    "plt.title(\"Proporsi Tujuan Pengguna Fintech Lending (n={})\".format(n))\n",
    "plt.show()"
   ]
  },
  {
   "cell_type": "code",
   "execution_count": 32,
   "metadata": {},
   "outputs": [],
   "source": [
    "nojawab = 0\n",
    "for i in range(len(df_fint)):\n",
    "    if df_fint[\"nominal_peminjaman\"][i] == \"tidak menjawab\":\n",
    "        nojawab += 1\n",
    "        \n",
    "n = ya - nojawab\n",
    "df = pd.DataFrame(df_fint[\"nominal_peminjaman\"].value_counts()).reset_index()\n",
    "li = []\n",
    "for i in range(len(df)):\n",
    "    li.insert(i ,df[\"nominal_peminjaman\"][i]/n)\n",
    "df[\"Proporsi\"] = li\n",
    "df.columns = [\"Nominal\", \"Frekuensi\", \"Proporsi\"]\n",
    "\n",
    "# drop yang \"tidak menjawab\"\n",
    "df = df.drop(labels=[2], axis=0)"
   ]
  },
  {
   "cell_type": "markdown",
   "metadata": {},
   "source": [
    "Tabel Frekuensi Nominal Peminjaman"
   ]
  },
  {
   "cell_type": "code",
   "execution_count": 33,
   "metadata": {},
   "outputs": [
    {
     "data": {
      "text/html": [
       "<div>\n",
       "<style scoped>\n",
       "    .dataframe tbody tr th:only-of-type {\n",
       "        vertical-align: middle;\n",
       "    }\n",
       "\n",
       "    .dataframe tbody tr th {\n",
       "        vertical-align: top;\n",
       "    }\n",
       "\n",
       "    .dataframe thead th {\n",
       "        text-align: right;\n",
       "    }\n",
       "</style>\n",
       "<table border=\"1\" class=\"dataframe\">\n",
       "  <thead>\n",
       "    <tr style=\"text-align: right;\">\n",
       "      <th></th>\n",
       "      <th>Nominal</th>\n",
       "      <th>Frekuensi</th>\n",
       "      <th>Proporsi</th>\n",
       "    </tr>\n",
       "  </thead>\n",
       "  <tbody>\n",
       "    <tr>\n",
       "      <th>0</th>\n",
       "      <td>&lt; Rp 1.000.000,-</td>\n",
       "      <td>54</td>\n",
       "      <td>0.504673</td>\n",
       "    </tr>\n",
       "    <tr>\n",
       "      <th>1</th>\n",
       "      <td>Rp 1.000.000 – Rp 5.000.000,-</td>\n",
       "      <td>31</td>\n",
       "      <td>0.289720</td>\n",
       "    </tr>\n",
       "    <tr>\n",
       "      <th>3</th>\n",
       "      <td>Rp 5.000.001 – Rp 10.000.000</td>\n",
       "      <td>13</td>\n",
       "      <td>0.121495</td>\n",
       "    </tr>\n",
       "    <tr>\n",
       "      <th>4</th>\n",
       "      <td>&gt; Rp 10.000.000,-</td>\n",
       "      <td>9</td>\n",
       "      <td>0.084112</td>\n",
       "    </tr>\n",
       "  </tbody>\n",
       "</table>\n",
       "</div>"
      ],
      "text/plain": [
       "                         Nominal  Frekuensi  Proporsi\n",
       "0               < Rp 1.000.000,-         54  0.504673\n",
       "1  Rp 1.000.000 – Rp 5.000.000,-         31  0.289720\n",
       "3   Rp 5.000.001 – Rp 10.000.000         13  0.121495\n",
       "4              > Rp 10.000.000,-          9  0.084112"
      ]
     },
     "execution_count": 33,
     "metadata": {},
     "output_type": "execute_result"
    }
   ],
   "source": [
    "df"
   ]
  },
  {
   "cell_type": "code",
   "execution_count": 34,
   "metadata": {},
   "outputs": [
    {
     "data": {
      "image/png": "[encoded data removed]",
      "text/plain": [
       "<Figure size 432x288 with 1 Axes>"
      ]
     },
     "metadata": {},
     "output_type": "display_data"
    }
   ],
   "source": [
    "plt.pie(df[\"Proporsi\"], labels = list(df[\"Nominal\"]), autopct = \"%.4f%%\")\n",
    "plt.title(\"Proporsi Nominal Peminjaman (n={})\".format(n+nojawab))\n",
    "plt.show()"
   ]
  },
  {
   "cell_type": "code",
   "execution_count": 35,
   "metadata": {},
   "outputs": [],
   "source": [
    "kel1 = 0\n",
    "kel2 = 0\n",
    "kel3 = 0\n",
    "# n adalah jumlah responden yang menggunakan fintech lending\n",
    "n = ya\n",
    "for i in range(len(df_fint)):\n",
    "    if pd.isna(df_fint.iloc[i, 22]) != True:\n",
    "        kel1 += 1\n",
    "    elif pd.isna(df_fint.iloc[i, 23]) != True:\n",
    "        kel2 += 1\n",
    "    elif pd.isna(df_fint.iloc[i, 24]) != True:\n",
    "        kel3 += 1\n",
    "li_frek = [kel1,kel2,kel2]\n",
    "li_prop = [kel1/n,kel2/n,kel3/n]\n",
    "li_sub = [\"Sistem down\", \"Bunga tinggi\", \"Masalah debt collector\"]\n",
    "\n",
    "data = {\n",
    "    \"Keluhan\": li_sub,\n",
    "    \"Frekuensi\": li_frek,\n",
    "    \"Proporsi\": li_prop\n",
    "}\n",
    "df = pd.DataFrame(data)"
   ]
  },
  {
   "cell_type": "markdown",
   "metadata": {},
   "source": [
    "Tabel Frekuensi Keluhan Pengguna Fintech Lending"
   ]
  },
  {
   "cell_type": "code",
   "execution_count": 36,
   "metadata": {},
   "outputs": [
    {
     "data": {
      "text/html": [
       "<div>\n",
       "<style scoped>\n",
       "    .dataframe tbody tr th:only-of-type {\n",
       "        vertical-align: middle;\n",
       "    }\n",
       "\n",
       "    .dataframe tbody tr th {\n",
       "        vertical-align: top;\n",
       "    }\n",
       "\n",
       "    .dataframe thead th {\n",
       "        text-align: right;\n",
       "    }\n",
       "</style>\n",
       "<table border=\"1\" class=\"dataframe\">\n",
       "  <thead>\n",
       "    <tr style=\"text-align: right;\">\n",
       "      <th></th>\n",
       "      <th>Keluhan</th>\n",
       "      <th>Frekuensi</th>\n",
       "      <th>Proporsi</th>\n",
       "    </tr>\n",
       "  </thead>\n",
       "  <tbody>\n",
       "    <tr>\n",
       "      <th>0</th>\n",
       "      <td>Sistem down</td>\n",
       "      <td>22</td>\n",
       "      <td>0.178862</td>\n",
       "    </tr>\n",
       "    <tr>\n",
       "      <th>1</th>\n",
       "      <td>Bunga tinggi</td>\n",
       "      <td>19</td>\n",
       "      <td>0.154472</td>\n",
       "    </tr>\n",
       "    <tr>\n",
       "      <th>2</th>\n",
       "      <td>Masalah debt collector</td>\n",
       "      <td>19</td>\n",
       "      <td>0.016260</td>\n",
       "    </tr>\n",
       "  </tbody>\n",
       "</table>\n",
       "</div>"
      ],
      "text/plain": [
       "                  Keluhan  Frekuensi  Proporsi\n",
       "0             Sistem down         22  0.178862\n",
       "1            Bunga tinggi         19  0.154472\n",
       "2  Masalah debt collector         19  0.016260"
      ]
     },
     "execution_count": 36,
     "metadata": {},
     "output_type": "execute_result"
    }
   ],
   "source": [
    "df"
   ]
  },
  {
   "cell_type": "code",
   "execution_count": 37,
   "metadata": {},
   "outputs": [
    {
     "data": {
      "image/png": "[encoded data removed]",
      "text/plain": [
       "<Figure size 432x288 with 1 Axes>"
      ]
     },
     "metadata": {},
     "output_type": "display_data"
    }
   ],
   "source": [
    "plt.bar(li_sub, li_prop, width = 0.2)\n",
    "plt.xlabel(\"Keluhan\")\n",
    "plt.ylabel(\"Proporsi\")\n",
    "plt.title(\"Proporsi Keluhan Pengguna Fintech Lending (n={})\".format(n))\n",
    "plt.show()"
   ]
  },
  {
   "cell_type": "markdown",
   "metadata": {},
   "source": [
    "### Confidence Interval 95% Selisih Proporsi Pengguna Fintech Lending"
   ]
  },
  {
   "cell_type": "code",
   "execution_count": 38,
   "metadata": {},
   "outputs": [
    {
     "data": {
      "text/html": [
       "<div>\n",
       "<style scoped>\n",
       "    .dataframe tbody tr th:only-of-type {\n",
       "        vertical-align: middle;\n",
       "    }\n",
       "\n",
       "    .dataframe tbody tr th {\n",
       "        vertical-align: top;\n",
       "    }\n",
       "\n",
       "    .dataframe thead th {\n",
       "        text-align: right;\n",
       "    }\n",
       "</style>\n",
       "<table border=\"1\" class=\"dataframe\">\n",
       "  <thead>\n",
       "    <tr style=\"text-align: right;\">\n",
       "      <th></th>\n",
       "      <th>Fintech</th>\n",
       "      <th>Frekuensi</th>\n",
       "      <th>Proporsi</th>\n",
       "    </tr>\n",
       "  </thead>\n",
       "  <tbody>\n",
       "    <tr>\n",
       "      <th>0</th>\n",
       "      <td>Kredivo</td>\n",
       "      <td>44</td>\n",
       "      <td>0.021002</td>\n",
       "    </tr>\n",
       "    <tr>\n",
       "      <th>1</th>\n",
       "      <td>Danacepat</td>\n",
       "      <td>4</td>\n",
       "      <td>0.001909</td>\n",
       "    </tr>\n",
       "    <tr>\n",
       "      <th>2</th>\n",
       "      <td>Cicil</td>\n",
       "      <td>14</td>\n",
       "      <td>0.006683</td>\n",
       "    </tr>\n",
       "    <tr>\n",
       "      <th>3</th>\n",
       "      <td>Akulaku</td>\n",
       "      <td>15</td>\n",
       "      <td>0.007160</td>\n",
       "    </tr>\n",
       "    <tr>\n",
       "      <th>4</th>\n",
       "      <td>Investree</td>\n",
       "      <td>7</td>\n",
       "      <td>0.003341</td>\n",
       "    </tr>\n",
       "  </tbody>\n",
       "</table>\n",
       "</div>"
      ],
      "text/plain": [
       "     Fintech  Frekuensi  Proporsi\n",
       "0    Kredivo         44  0.021002\n",
       "1  Danacepat          4  0.001909\n",
       "2      Cicil         14  0.006683\n",
       "3    Akulaku         15  0.007160\n",
       "4  Investree          7  0.003341"
      ]
     },
     "execution_count": 38,
     "metadata": {},
     "output_type": "execute_result"
    }
   ],
   "source": [
    "df_finlend"
   ]
  },
  {
   "cell_type": "markdown",
   "metadata": {},
   "source": [
    "Pengguna kredivo - pengguna cicil"
   ]
  },
  {
   "cell_type": "code",
   "execution_count": 39,
   "metadata": {},
   "outputs": [
    {
     "name": "stdout",
     "output_type": "stream",
     "text": [
      "-0.07310850536624756 < p_kredivo - p_cicil < 0.1017481235046724\n"
     ]
    }
   ],
   "source": [
    "n = ya\n",
    "kred_cicil = df_finlend.at[0,'Proporsi'] - df_finlend.at[2,'Proporsi']\n",
    "error = norm.ppf(0.95)*(0.2*0.8/n+0.25*0.75/n)**(1/2)\n",
    "batas_bawah = kred_cicil - error\n",
    "batas_atas = kred_cicil + error\n",
    "print('{} < p_kredivo - p_cicil < {}'.format(batas_bawah, batas_atas))"
   ]
  },
  {
   "cell_type": "code",
   "execution_count": 40,
   "metadata": {},
   "outputs": [
    {
     "data": {
      "text/html": [
       "<div>\n",
       "<style scoped>\n",
       "    .dataframe tbody tr th:only-of-type {\n",
       "        vertical-align: middle;\n",
       "    }\n",
       "\n",
       "    .dataframe tbody tr th {\n",
       "        vertical-align: top;\n",
       "    }\n",
       "\n",
       "    .dataframe thead th {\n",
       "        text-align: right;\n",
       "    }\n",
       "</style>\n",
       "<table border=\"1\" class=\"dataframe\">\n",
       "  <thead>\n",
       "    <tr style=\"text-align: right;\">\n",
       "      <th></th>\n",
       "      <th>Tujuan</th>\n",
       "      <th>Frekuensi</th>\n",
       "      <th>Proporsi</th>\n",
       "    </tr>\n",
       "  </thead>\n",
       "  <tbody>\n",
       "    <tr>\n",
       "      <th>0</th>\n",
       "      <td>Modal Usaha</td>\n",
       "      <td>22</td>\n",
       "      <td>0.178862</td>\n",
       "    </tr>\n",
       "    <tr>\n",
       "      <th>1</th>\n",
       "      <td>Keperluan harian</td>\n",
       "      <td>25</td>\n",
       "      <td>0.203252</td>\n",
       "    </tr>\n",
       "    <tr>\n",
       "      <th>2</th>\n",
       "      <td>Belanja online</td>\n",
       "      <td>26</td>\n",
       "      <td>0.211382</td>\n",
       "    </tr>\n",
       "    <tr>\n",
       "      <th>3</th>\n",
       "      <td>Biaya pendidikan</td>\n",
       "      <td>8</td>\n",
       "      <td>0.065041</td>\n",
       "    </tr>\n",
       "    <tr>\n",
       "      <th>4</th>\n",
       "      <td>Beli kendaraan</td>\n",
       "      <td>4</td>\n",
       "      <td>0.032520</td>\n",
       "    </tr>\n",
       "  </tbody>\n",
       "</table>\n",
       "</div>"
      ],
      "text/plain": [
       "             Tujuan  Frekuensi  Proporsi\n",
       "0       Modal Usaha         22  0.178862\n",
       "1  Keperluan harian         25  0.203252\n",
       "2    Belanja online         26  0.211382\n",
       "3  Biaya pendidikan          8  0.065041\n",
       "4    Beli kendaraan          4  0.032520"
      ]
     },
     "execution_count": 40,
     "metadata": {},
     "output_type": "execute_result"
    }
   ],
   "source": [
    "df_lend"
   ]
  },
  {
   "cell_type": "markdown",
   "metadata": {},
   "source": [
    "Tujuan Modal Usaha - Tujuan Belanja Online"
   ]
  },
  {
   "cell_type": "code",
   "execution_count": 41,
   "metadata": {},
   "outputs": [
    {
     "name": "stdout",
     "output_type": "stream",
     "text": [
      "-0.11994863963871202 < p_modal usaha - p_belanja online < 0.05490798923220794\n"
     ]
    }
   ],
   "source": [
    "modal_belanja = df_lend.at[0,'Proporsi'] - df_lend.at[2,'Proporsi']\n",
    "error = norm.ppf(0.95)*(0.2*0.8/n+0.25*0.75/n)**(1/2)\n",
    "batas_bawah = modal_belanja - error\n",
    "batas_atas = modal_belanja + error\n",
    "print('{} < p_modal usaha - p_belanja online < {}'.format(batas_bawah, batas_atas))"
   ]
  },
  {
   "cell_type": "markdown",
   "metadata": {},
   "source": [
    "### INSIGHT"
   ]
  },
  {
   "cell_type": "markdown",
   "metadata": {},
   "source": [
    "1. Responden laki-laki dan perempuan tidak berbeda jauh jumlahnya\n",
    "2. Mayoritas responden adalah milenial yang masih berumur di bawah 20 tahun\n",
    "3. Mayoritas respinden memiliki gaji di bawah 2 juta\n",
    "4. Kebanyakan responden tidak menggunakan layanan fintech lending\n",
    "5. Karena responden kebanyakan anak SMA, maka anak SMA mayoritas belum membutuhkan layanan fintech lending\n",
    "6. Hasil pengolahan data topik fintech lending belum bisa diambil kesimpulan karena jumlah responden yang menggunakan layanan fintech lending sangat sedikit"
   ]
  }
 ],
 "metadata": {
  "kernelspec": {
   "display_name": "Python 3",
   "language": "python",
   "name": "python3"
  },
  "language_info": {
   "codemirror_mode": {
    "name": "ipython",
    "version": 3
   },
   "file_extension": ".py",
   "mimetype": "text/x-python",
   "name": "python",
   "nbconvert_exporter": "python",
   "pygments_lexer": "ipython3",
   "version": "3.8.3"
  }
 },
 "nbformat": 4,
 "nbformat_minor": 4
}
